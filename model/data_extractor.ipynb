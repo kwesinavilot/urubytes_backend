{
 "cells": [
  {
   "cell_type": "code",
   "execution_count": 31,
   "metadata": {},
   "outputs": [],
   "source": [
    "# import required libraries\n",
    "import os\n",
    "import PyPDF2\n",
    "# import pdfplumber"
   ]
  },
  {
   "cell_type": "code",
   "execution_count": 32,
   "metadata": {},
   "outputs": [],
   "source": [
    "# list directories with pdfs\n",
    "gh_directory = './Documents/Ghana'\n",
    "ng_directory = './Documents/Nigeria'\n",
    "startup_dir = './Documents/Startups'"
   ]
  },
  {
   "cell_type": "code",
   "execution_count": 33,
   "metadata": {},
   "outputs": [],
   "source": [
    "# function to extract text from a single pdf\n",
    "def extract_text_pypdf2(pdf_path):\n",
    "    with open(pdf_path, 'rb') as file:\n",
    "        reader = PyPDF2.PdfFileReader(file)\n",
    "        text = ''\n",
    "        for page_num in range(reader.numPages):\n",
    "            page = reader.getPage(page_num)\n",
    "            text += page.extractText()\n",
    "    return text\n",
    "\n",
    "# # similar function for pdfplumber\n",
    "# def extract_text_pdfplumber(pdf_path):\n",
    "#     with pdfplumber.open(pdf_path) as pdf:\n",
    "#         text = ''\n",
    "#         for page in pdf.pages:\n",
    "#             text += page.extract_text()\n",
    "#     return text"
   ]
  },
  {
   "cell_type": "code",
   "execution_count": 34,
   "metadata": {},
   "outputs": [],
   "source": [
    "# now, loop through each directory and extract text from each file\n",
    "# for directory in [gh_directory, ng_directory, startup_dir]:\n",
    "#     for filename in os.listdir(directory):\n",
    "#         if filename.endswith('.pdf'):\n",
    "#             pdf_path = os.path.join(directory, filename)\n",
    "#             text = extract_text_pypdf2(pdf_path)\n",
    "#             print(f'Extracted text from {filename}:')\n",
    "#             print(text)\n",
    "\n",
    "def extract_and_save_text(directory):\n",
    "    \"\"\"\n",
    "    Extracts text from PDFs in the given directory and appends it to a single file named \"extracted.txt\".\n",
    "    \"\"\"\n",
    "\n",
    "    text_file_path = os.path.join(directory, \"extracted.txt\")\n",
    "\n",
    "    with open(text_file_path, \"a\") as text_file:  # Open in append mode (\"a\")\n",
    "        for filename in os.listdir(directory):\n",
    "            if filename.endswith('.pdf'):\n",
    "                pdf_path = os.path.join(directory, filename)\n",
    "                base_filename, _ = os.path.splitext(filename)  # Remove the .pdf extension\n",
    "\n",
    "                try:\n",
    "                    text = extract_text_pypdf2(pdf_path)  # Use the PyPDF2 function for extraction\n",
    "                    text_file.write(f\"\\n\\nExtracted from: {filename}\\n\")  # Add filename separator\n",
    "                    text_file.write(text)\n",
    "                    print(f\"Extracted text from {filename} and appended to {text_file_path}\")\n",
    "                except Exception as e:\n",
    "                    print(f\"Error processing {filename}: {e}\")"
   ]
  },
  {
   "cell_type": "code",
   "execution_count": 35,
   "metadata": {},
   "outputs": [
    {
     "name": "stdout",
     "output_type": "stream",
     "text": [
      "Extracted text from 2020 SGGH ANNUAL REPORT.pdf and appended to ./Documents/Ghana\\extracted.txt\n"
     ]
    },
    {
     "name": "stderr",
     "output_type": "stream",
     "text": [
      "Xref table not zero-indexed. ID numbers for objects will be corrected.\n"
     ]
    },
    {
     "name": "stdout",
     "output_type": "stream",
     "text": [
      "Extracted text from absa-annual-financial-statement-2021.pdf and appended to ./Documents/Ghana\\extracted.txt\n",
      "Extracted text from absa-annual-financial-statement-2022.pdf and appended to ./Documents/Ghana\\extracted.txt\n",
      "Extracted text from absa-financial-statement-2020.pdf and appended to ./Documents/Ghana\\extracted.txt\n"
     ]
    },
    {
     "name": "stderr",
     "output_type": "stream",
     "text": [
      "Xref table not zero-indexed. ID numbers for objects will be corrected.\n"
     ]
    },
    {
     "name": "stdout",
     "output_type": "stream",
     "text": [
      "Extracted text from ADB-2022-ANNUAL-REPORT-AND-FINANCIAL-STATEMENTS-1.pdf and appended to ./Documents/Ghana\\extracted.txt\n",
      "Extracted text from FINANCIALS-2021-ADB-final-signed.pdf and appended to ./Documents/Ghana\\extracted.txt\n"
     ]
    },
    {
     "name": "stderr",
     "output_type": "stream",
     "text": [
      "Xref table not zero-indexed. ID numbers for objects will be corrected.\n"
     ]
    },
    {
     "name": "stdout",
     "output_type": "stream",
     "text": [
      "Extracted text from GCB AR 2021_FINAL WEB.pdf and appended to ./Documents/Ghana\\extracted.txt\n"
     ]
    },
    {
     "name": "stderr",
     "output_type": "stream",
     "text": [
      "Xref table not zero-indexed. ID numbers for objects will be corrected.\n"
     ]
    },
    {
     "name": "stdout",
     "output_type": "stream",
     "text": [
      "Extracted text from GCB BANK AR 2020 FINAL WEB.pdf and appended to ./Documents/Ghana\\extracted.txt\n"
     ]
    },
    {
     "name": "stderr",
     "output_type": "stream",
     "text": [
      "Xref table not zero-indexed. ID numbers for objects will be corrected.\n"
     ]
    },
    {
     "name": "stdout",
     "output_type": "stream",
     "text": [
      "Extracted text from GCB2022 Annual Report (updated).pdf and appended to ./Documents/Ghana\\extracted.txt\n",
      "Extracted text from SG_Ghana_2021_Financials_with_signature.pdf and appended to ./Documents/Ghana\\extracted.txt\n"
     ]
    },
    {
     "name": "stderr",
     "output_type": "stream",
     "text": [
      "Xref table not zero-indexed. ID numbers for objects will be corrected.\n"
     ]
    },
    {
     "name": "stdout",
     "output_type": "stream",
     "text": [
      "Extracted text from SG_Ghana_2022_Annual_Report.pdf and appended to ./Documents/Ghana\\extracted.txt\n"
     ]
    },
    {
     "name": "stderr",
     "output_type": "stream",
     "text": [
      "Xref table not zero-indexed. ID numbers for objects will be corrected.\n"
     ]
    },
    {
     "name": "stdout",
     "output_type": "stream",
     "text": [
      "Extracted text from Website-2022-ADB-Annual-Report-compressed-compressed.pdf and appended to ./Documents/Ghana\\extracted.txt\n"
     ]
    },
    {
     "name": "stderr",
     "output_type": "stream",
     "text": [
      "Xref table not zero-indexed. ID numbers for objects will be corrected.\n"
     ]
    },
    {
     "name": "stdout",
     "output_type": "stream",
     "text": [
      "Extracted text from Website_2021-ADB-Annual-Report.pdf and appended to ./Documents/Ghana\\extracted.txt\n",
      "Extracted text from Website_ADB-2020-Annual-Report-1.pdf and appended to ./Documents/Ghana\\extracted.txt\n"
     ]
    }
   ],
   "source": [
    "extract_and_save_text(gh_directory)\n",
    "# extract_and_save_text(ng_directory)\n",
    "# extract_and_save_text(startup_dir)"
   ]
  }
 ],
 "metadata": {
  "kernelspec": {
   "display_name": "base",
   "language": "python",
   "name": "python3"
  },
  "language_info": {
   "codemirror_mode": {
    "name": "ipython",
    "version": 3
   },
   "file_extension": ".py",
   "mimetype": "text/x-python",
   "name": "python",
   "nbconvert_exporter": "python",
   "pygments_lexer": "ipython3",
   "version": "3.11.5"
  }
 },
 "nbformat": 4,
 "nbformat_minor": 2
}

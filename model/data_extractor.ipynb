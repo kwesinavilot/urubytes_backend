{
 "cells": [
  {
   "cell_type": "code",
   "execution_count": 21,
   "metadata": {},
   "outputs": [],
   "source": [
    "import os\n",
    "import shutil"
   ]
  },
  {
   "cell_type": "code",
   "execution_count": 22,
   "metadata": {},
   "outputs": [],
   "source": [
    "source_dir = \"./Reports\"\n",
    "destination_dir = './Documents'"
   ]
  },
  {
   "cell_type": "code",
   "execution_count": 23,
   "metadata": {},
   "outputs": [
    {
     "name": "stdout",
     "output_type": "stream",
     "text": [
      "Source directory: ./Reports\n",
      "Current working directory: c:\\xampp\\htdocs\\urubytes_backend\\model\n",
      "Destination directory: ./Documents\n",
      "./Reports\n",
      "[]\n",
      "./Reports\\GHANA\n",
      "[]\n",
      "./Reports\\GHANA\\Absa\n",
      "['absa-annual-financial-statement-2021.pdf', 'absa-annual-financial-statement-2022.pdf', 'absa-financial-statement-2020.pdf']\n",
      "All files moved successfully!\n",
      "All files moved successfully!\n",
      "All files moved successfully!\n",
      "./Reports\\GHANA\\ADB\n",
      "['ADB-2022-ANNUAL-REPORT-AND-FINANCIAL-STATEMENTS-1.pdf', 'FINANCIALS-2021-ADB-final-signed.pdf', 'Website-2022-ADB-Annual-Report-compressed-compressed.pdf', 'Website_2021-ADB-Annual-Report.pdf', 'Website_ADB-2020-Annual-Report-1.pdf']\n",
      "All files moved successfully!\n",
      "All files moved successfully!\n",
      "All files moved successfully!\n",
      "All files moved successfully!\n",
      "All files moved successfully!\n",
      "./Reports\\GHANA\\GCB\n",
      "['GCB AR 2021_FINAL WEB.pdf', 'GCB BANK AR 2020 FINAL WEB.pdf', 'GCB2022 Annual Report (updated).pdf']\n",
      "All files moved successfully!\n",
      "All files moved successfully!\n",
      "All files moved successfully!\n",
      "./Reports\\GHANA\\SGGHANA\n",
      "['2020 SGGH ANNUAL REPORT.pdf', 'SG_Ghana_2021_Financials_with_signature.pdf', 'SG_Ghana_2022_Annual_Report.pdf']\n",
      "All files moved successfully!\n",
      "All files moved successfully!\n",
      "All files moved successfully!\n",
      "./Reports\\Journals\n",
      "[]\n",
      "./Reports\\Journals\\AVCA\n",
      "['02084-avca-tbi-climatereport_8.pdf', '02115-avca-kifc-funds-report_13-part2.pdf', '02115-avca-kifc-funds-report_9-part1.pdf', '02175-avca-vc-report-2023_4-final-1.pdf', '02177-avca-apca-report-2023_public-version.pdf', 'avca23-02-vc-q1-q2-2023_3.pdf', 'avca23-03-apca-q1-q2-2023_4.pdf', 'avca23-04-kifc-payment-providers-report_4.pdf', 'avca23-05-industry-survey_3.pdf']\n",
      "All files moved successfully!\n",
      "All files moved successfully!\n",
      "All files moved successfully!\n",
      "All files moved successfully!\n",
      "All files moved successfully!\n",
      "All files moved successfully!\n",
      "All files moved successfully!\n",
      "All files moved successfully!\n",
      "All files moved successfully!\n",
      "./Reports\\Journals\\Innovation Sparks\n",
      "['End-of-Year-Report-2023---Ghana-Innovation-Journal.pdf', 'Ghana-Innovation-Ecosystem-Report-2022-Year-in-Review.pdf', 'Ghana-Innovation-Journal-Half-Year-Report-2023.pdf', 'Ghana-Startup-Ecosystem-Primer-2023--Accra-Angels-Innohub-Asime-Ventures--The-Innovation-Spark.pdf', 'The-Ghana-Innovation-Journal-Ghana-Half-Year-Report-2022.pdf']\n",
      "All files moved successfully!\n",
      "All files moved successfully!\n",
      "All files moved successfully!\n",
      "All files moved successfully!\n",
      "All files moved successfully!\n",
      "./Reports\\NIGERIA\n",
      "[]\n",
      "./Reports\\NIGERIA\\Access\n",
      "['Access-2021-Annual-Report-Full.pdf', 'Access-Annual-Report-2020.pdf', 'AccessBank_2022_Annual_Report.pdf']\n",
      "All files moved successfully!\n",
      "All files moved successfully!\n",
      "All files moved successfully!\n",
      "./Reports\\NIGERIA\\UBA\n",
      "['UBA-2021-Annual-Report-English.pdf', 'UBA-ANNUAL-REPORT-ACCOUNTS-2022.pdf', 'UBA-Plc-2020-Annual-Report-and-Accounts-English.pdf']\n",
      "All files moved successfully!\n",
      "All files moved successfully!\n",
      "All files moved successfully!\n",
      "./Reports\\NIGERIA\\Zenith Bank\n",
      "['ZBN-2021-annual-report.pdf', 'ZBN-2022-annual-report.pdf', 'ZBN-annual-report2020.pdf', 'zenith-bank-group-presentation-fye-2020.pdf']\n",
      "All files moved successfully!\n",
      "All files moved successfully!\n",
      "All files moved successfully!\n",
      "All files moved successfully!\n"
     ]
    }
   ],
   "source": [
    "# print out the full path of the source directory\n",
    "print('Source directory:', source_dir)\n",
    "print('Current working directory:', os.getcwd())\n",
    "\n",
    "# Create the destination directory if it doesn't exist\n",
    "if not os.path.exists(destination_dir):\n",
    "    os.makedirs(destination_dir)\n",
    "\n",
    "# print the destination directory with the path\n",
    "print('Destination directory:', destination_dir)\n",
    "\n",
    "# Loop through each directory in the source directory\n",
    "for root, dirs, files in os.walk(source_dir):\n",
    "    print(root)\n",
    "\n",
    "    # print the files in the directory\n",
    "    print(files)\n",
    "\n",
    "    for file in files:\n",
    "        # Get the full path of the file\n",
    "        file_path = os.path.join(root, file)\n",
    "        \n",
    "        # Move the file to the destination directory\n",
    "        shutil.move(file_path, destination_dir)\n",
    "\n",
    "        print(\"All files moved successfully!\")"
   ]
  }
 ],
 "metadata": {
  "kernelspec": {
   "display_name": "base",
   "language": "python",
   "name": "python3"
  },
  "language_info": {
   "codemirror_mode": {
    "name": "ipython",
    "version": 3
   },
   "file_extension": ".py",
   "mimetype": "text/x-python",
   "name": "python",
   "nbconvert_exporter": "python",
   "pygments_lexer": "ipython3",
   "version": "3.11.5"
  }
 },
 "nbformat": 4,
 "nbformat_minor": 2
}

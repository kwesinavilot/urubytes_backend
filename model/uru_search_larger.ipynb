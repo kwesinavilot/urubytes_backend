{
 "cells": [
  {
   "cell_type": "code",
   "execution_count": 1,
   "metadata": {},
   "outputs": [],
   "source": [
    "# reload indexed data from storage\n",
    "import os.path\n",
    "from llama_index.core import (\n",
    "    VectorStoreIndex,\n",
    "    SimpleDirectoryReader,\n",
    "    StorageContext,\n",
    "    load_index_from_storage,\n",
    ")\n",
    "from dotenv import load_dotenv"
   ]
  },
  {
   "cell_type": "code",
   "execution_count": 3,
   "metadata": {},
   "outputs": [],
   "source": [
    "# Get the current working directory\n",
    "current_dir = os.getcwd()\n",
    "\n",
    "# Construct the path to the .env file in the ./engine directory\n",
    "dotenv_path = os.path.join(current_dir, '..', 'engine', '.env')\n",
    "\n",
    "# Load environment variables from the .env file\n",
    "load_dotenv(dotenv_path)\n",
    "\n",
    "# OpenAI Key\n",
    "os.environ[\"OPENAI_API_KEY\"] = os.getenv('OPENAI_KEY')"
   ]
  },
  {
   "cell_type": "code",
   "execution_count": 4,
   "metadata": {},
   "outputs": [
    {
     "name": "stdout",
     "output_type": "stream",
     "text": [
      "Using already existing index...\n"
     ]
    }
   ],
   "source": [
    "# rebuild storage context\n",
    "# check if storage already exists\n",
    "PERSIST_DIR = \"./storage\"\n",
    "if not os.path.exists(PERSIST_DIR):\n",
    "    # load the documents and create the index\n",
    "    print(\"Rebuilding index...\")\n",
    "\n",
    "    documents = SimpleDirectoryReader(\"data\").load_data()\n",
    "    index = VectorStoreIndex.from_documents(documents)\n",
    "    # store it for later\n",
    "    index.storage_context.persist(persist_dir=PERSIST_DIR)\n",
    "else:\n",
    "    # load the existing index\n",
    "    print(\"Using already existing index...\")\n",
    "\n",
    "    storage_context = StorageContext.from_defaults(persist_dir=PERSIST_DIR)\n",
    "    index = load_index_from_storage(storage_context)"
   ]
  },
  {
   "cell_type": "code",
   "execution_count": 5,
   "metadata": {},
   "outputs": [
    {
     "name": "stdout",
     "output_type": "stream",
     "text": [
      "Accra Angels Network aims to support high-growth scalable tech and tech-enabled companies in Ghana. They typically look for startups that are not older than 7 years, have the potential to scale, possess a management team or structure in place, demonstrate a clearly defined market opportunity, and show growth and impact potential. In addition to funding, they offer services such as long-term partnerships, mentorship, advisory support, and access to corporate and investor networks. To position your startup for funding from Accra Angels Network, ensure that your business meets their criteria, clearly showcase your growth potential, have a solid management team, demonstrate a scalable business model, and highlight the impact your startup can make in the market. Building a strong network, seeking mentorship, and emphasizing long-term partnerships can also enhance your chances of securing funding from them.\n"
     ]
    }
   ],
   "source": [
    "# Either way we can now query the index\n",
    "query_engine = index.as_query_engine()\n",
    "response = query_engine.query(\"I am a startup founder, looking for funding. I've heard of the Accra Angels Network. what information do you have on them? what do they look for in a startup?\"\n",
    "                              + \"I need thorough insights on how can I position my startup to get funding from them\")\n",
    "print(response)"
   ]
  },
  {
   "cell_type": "code",
   "execution_count": 6,
   "metadata": {},
   "outputs": [
    {
     "name": "stdout",
     "output_type": "stream",
     "text": [
      "The Ghanaian startup ecosystem has shown resilience and growth in funding over the last four years. Local players have stepped in to bridge the access to capital gap, with interventions like the World Bank-funded Ghana Economic Transformation Project. Youth-led investment vehicles have also emerged to support startups. Additionally, international development agencies and incubators have served as alternative funding sources for early-stage companies. The ecosystem has witnessed an increase in mergers and acquisitions, showcasing a maturing market. Overall, there is a positive outlook for more funding opportunities, collaborations, and support for startups in Ghana.\n"
     ]
    }
   ],
   "source": [
    "query_engine = index.as_query_engine()\n",
    "response = query_engine.query(\"what actionable insights can you provide me on Ghana's startup ecosystem funding growth over the last four years?\")\n",
    "print(response)"
   ]
  }
 ],
 "metadata": {
  "kernelspec": {
   "display_name": "base",
   "language": "python",
   "name": "python3"
  },
  "language_info": {
   "codemirror_mode": {
    "name": "ipython",
    "version": 3
   },
   "file_extension": ".py",
   "mimetype": "text/x-python",
   "name": "python",
   "nbconvert_exporter": "python",
   "pygments_lexer": "ipython3",
   "version": "3.11.5"
  }
 },
 "nbformat": 4,
 "nbformat_minor": 2
}

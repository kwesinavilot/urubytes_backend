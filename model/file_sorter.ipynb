{
 "cells": [
  {
   "cell_type": "code",
   "execution_count": 27,
   "metadata": {},
   "outputs": [],
   "source": [
    "import os\n",
    "import shutil"
   ]
  },
  {
   "cell_type": "code",
   "execution_count": 28,
   "metadata": {},
   "outputs": [],
   "source": [
    "source_dir = \"./Reports\"\n",
    "gh_directory = './Documents/Ghana'\n",
    "ng_directory = './Documents/Nigeria'\n",
    "startup_dir = './Documents/Startups'"
   ]
  },
  {
   "cell_type": "code",
   "execution_count": 29,
   "metadata": {},
   "outputs": [],
   "source": [
    "# print out the full path of the source directory\n",
    "# print('Source directory:', source_dir)\n",
    "# print('Current working directory:', os.getcwd())\n",
    "\n",
    "# print the destination directory with the path\n",
    "# print('Destination directory:', destination_dir)\n",
    "\n",
    "# Loop through each directory in the source directory\n",
    "# for root, dirs, files in os.walk(source_dir):\n",
    "#     # print(root)\n",
    "\n",
    "#     # print the files in the directory\n",
    "#     # print(files)\n",
    "\n",
    "#     for file in files:\n",
    "#         # Get the full path of the file\n",
    "#         file_path = os.path.join(root, file)\n",
    "        \n",
    "#         # Move the file to the destination directory\n",
    "#         shutil.move(file_path, destination_dir)\n",
    "\n",
    "# print(\"All files moved successfully!\")"
   ]
  },
  {
   "cell_type": "code",
   "execution_count": 30,
   "metadata": {},
   "outputs": [
    {
     "name": "stdout",
     "output_type": "stream",
     "text": [
      "Successfully moved files in Ghana directory!\n",
      "Successfully moved files in Nigeria directory!\n",
      "Successfully moved files in Journals directory!\n",
      "All files moved successfully!\n"
     ]
    }
   ],
   "source": [
    "# Create the destination directory if it doesn't exist\n",
    "if not os.path.exists(gh_directory):\n",
    "    os.makedirs(gh_directory)\n",
    "    \n",
    "for root, dirs, files in os.walk(os.path.join(source_dir, \"Ghana\")):\n",
    "    for file in files:\n",
    "        file_path = os.path.join(root, file)\n",
    "        shutil.move(file_path, gh_directory)\n",
    "print(\"Successfully moved files in Ghana directory!\")\n",
    "\n",
    "if not os.path.exists(ng_directory):\n",
    "    os.makedirs(ng_directory)\n",
    "\n",
    "for root, dirs, files in os.walk(os.path.join(source_dir, \"Nigeria\")):\n",
    "    for file in files:\n",
    "        file_path = os.path.join(root, file)\n",
    "        shutil.move(file_path, ng_directory)\n",
    "print(\"Successfully moved files in Nigeria directory!\")\n",
    "\n",
    "if not os.path.exists(startup_dir):\n",
    "    os.makedirs(startup_dir)\n",
    "\n",
    "for root, dirs, files in os.walk(os.path.join(source_dir, \"Journals\")):\n",
    "    for file in files:\n",
    "        file_path = os.path.join(root, file)\n",
    "        shutil.move(file_path, startup_dir)\n",
    "print(\"Successfully moved files in Journals directory!\")\n",
    "\n",
    "print(\"All files moved successfully!\")"
   ]
  }
 ],
 "metadata": {
  "kernelspec": {
   "display_name": "base",
   "language": "python",
   "name": "python3"
  },
  "language_info": {
   "codemirror_mode": {
    "name": "ipython",
    "version": 3
   },
   "file_extension": ".py",
   "mimetype": "text/x-python",
   "name": "python",
   "nbconvert_exporter": "python",
   "pygments_lexer": "ipython3",
   "version": "3.11.5"
  }
 },
 "nbformat": 4,
 "nbformat_minor": 2
}

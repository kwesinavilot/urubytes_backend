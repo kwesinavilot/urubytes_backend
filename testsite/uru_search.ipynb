{
 "cells": [
  {
   "cell_type": "code",
   "execution_count": 1,
   "metadata": {},
   "outputs": [],
   "source": [
    "# import the necessary libraries\n",
    "# from llama_index import TreeIndex, SimpleDirectoryReader, PromptHelper, GPTListIndex, GPTTreeIndex, GPTListIndex\n",
    "\n",
    "from llama_index.core import GPTVectorStoreIndex, SimpleDirectoryReader\n",
    "import sys\n",
    "import os\n",
    "from dotenv import load_dotenv"
   ]
  },
  {
   "cell_type": "code",
   "execution_count": 3,
   "metadata": {},
   "outputs": [
    {
     "name": "stdout",
     "output_type": "stream",
     "text": [
      "c:\\xampp\\htdocs\\urubytes_backend\\testsite\n",
      "c:\\xampp\\htdocs\\urubytes_backend\\testsite\\..\\.env\n"
     ]
    }
   ],
   "source": [
    "# Get the current working directory\n",
    "current_dir = os.getcwd()\n",
    "\n",
    "# Construct the path to the .env file in the ./engine directory\n",
    "dotenv_path = os.path.join(current_dir, '..', '.env')\n",
    "\n",
    "# Load environment variables from the .env file\n",
    "load_dotenv(dotenv_path)\n",
    "\n",
    "# OpenAI Key\n",
    "os.environ[\"OPENAI_API_KEY\"] = os.getenv('OPENAI_KEY')"
   ]
  },
  {
   "cell_type": "code",
   "execution_count": 18,
   "metadata": {},
   "outputs": [],
   "source": [
    "# # Setting up the prompt helper\n",
    "# max_input_size = 4096\n",
    "# num_outputs = 512\n",
    "# max_chunk_overlap = 20\n",
    "# chunk_size_limit = 600\n",
    "\n",
    "# prompt_helper = PromptHelper(max_input_size, num_outputs, max_chunk_overlap, chunk_size_limit=chunk_size_limit)"
   ]
  },
  {
   "cell_type": "code",
   "execution_count": 19,
   "metadata": {},
   "outputs": [],
   "source": [
    "# llm_predictor = LLMPredictor(llm=ChatOpenAI(temperature=0.7, model_name=\"gpt-3.5-turbo\", max_tokens=num_outputs))\n"
   ]
  },
  {
   "cell_type": "code",
   "execution_count": 20,
   "metadata": {},
   "outputs": [],
   "source": [
    "# load the data from the directory and index it\n",
    "corpus = SimpleDirectoryReader(\"Corpus\").load_data()\n",
    "index = GPTVectorStoreIndex.from_documents(corpus)"
   ]
  },
  {
   "cell_type": "code",
   "execution_count": 25,
   "metadata": {},
   "outputs": [
    {
     "name": "stdout",
     "output_type": "stream",
     "text": [
      "The banking industry in Nigeria has experienced significant growth and development over the years. Key individuals like Mr. Olisa and Henry Oroh have contributed to this growth through their extensive experience and expertise in various aspects of banking such as Treasury, Operations, Credit Risk Management, and Digital Transformation. The industry has seen professionals with diverse educational backgrounds and international exposure, like Henry Oroh who has attended leadership programs at prestigious institutions. The industry in Nigeria is also characterized by the presence of well-established banks like Zenith Bank, which has expanded its operations regionally and internationally. The sector continues to evolve in response to global economic challenges and technological advancements, with a focus on maintaining market leadership positions and creating value for stakeholders.\n"
     ]
    }
   ],
   "source": [
    "# Once the data has been indexed, you can begin asking questions by using as_query_engine().\n",
    "# This function enables you to ask questions about specific information within the document and receive\n",
    "# a corresponding response with the help of OpenAI GPT-3 text-davinci-003 model.\n",
    "# query_engine = index.as_query_engine()\n",
    "# response = query_engine.query(\"What can you tell me about the banking industry in Nigeria?\")\n",
    "\n",
    "# print(response)"
   ]
  },
  {
   "cell_type": "code",
   "execution_count": 22,
   "metadata": {},
   "outputs": [],
   "source": [
    "# Creating an index is a time-consuming process. We can avoid re-creating indexes by saving the context.\n",
    "# By default, the following command will save the index store in the ./storage directory.\n",
    "# index.storage_context.persist()"
   ]
  },
  {
   "cell_type": "code",
   "execution_count": 27,
   "metadata": {},
   "outputs": [
    {
     "name": "stdout",
     "output_type": "stream",
     "text": [
      "The performance of startups in Ghana can be measured by factors such as fundraising activities, participation in events and competitions, receiving grants or investments, launching innovative products or services, engaging in mergers and acquisitions, and gaining recognition or awards within the entrepreneurial ecosystem.\n"
     ]
    }
   ],
   "source": [
    "# Instead of Q&A, we can also use LlamaIndex to create a personal Chatbot.\n",
    "#We just have to initialize the index with the as_chat_engine() function.\n",
    "query_engine = index.as_chat_engine()\n",
    "response = query_engine.chat(\"what's the performance of startups in Ghana. be factual\")\n",
    "print(response)"
   ]
  },
  {
   "cell_type": "code",
   "execution_count": 30,
   "metadata": {},
   "outputs": [
    {
     "name": "stdout",
     "output_type": "stream",
     "text": [
      "The financial results of ADB for the year ended 31 December 2022 were characterized by a loss of GHS 371 million. This loss marked a significant departure from the previous trend of modest profitability that the Bank had been experiencing since 2017. Several factors contributed to the financial performance in 2022:\n",
      "\n",
      "1. Steep Depreciation of the Ghana Cedi: The depreciation of the Ghana Cedi had a negative impact on the Bank's financial position, affecting its revenue and profitability.\n",
      "\n",
      "2. Elevated Inflation: High inflation rates in the economy also posed challenges for the Bank, impacting its operations and financial results.\n",
      "\n",
      "3. Lack of Market Liquidity for Government Bonds: The Domestic Debt Exchange Program led to a lack of market liquidity for Government of Ghana Bonds, affecting the Bank's investment portfolio and financial performance.\n",
      "\n",
      "4. Elevated Credit Losses: Some customers of the Bank struggled to repay their loans, leading to elevated credit losses and impairments on the Bank's loan portfolio.\n",
      "\n",
      "5. Revenue Mark-to-Market Losses: The Bank experienced mark-to-market losses on assets held in Government bonds and Cocoa Bills, contributing to the overall financial loss.\n",
      "\n",
      "6. Increase in Loan Loss Reserves: To address the credit losses and uncertainties in the economic environment, the Bank increased its loan loss reserves by GHS 49 million, bringing the total reserves to GHS 512 million by the end of the year.\n",
      "\n",
      "Overall, the financial results of ADB for the year ended 31 December 2022 reflected a challenging operating environment characterized by economic uncertainties, credit risks, and market volatility.\n"
     ]
    }
   ],
   "source": [
    "query_engine = index.as_chat_engine()\n",
    "response = query_engine.chat(\"compare ADB's performance thoroughly explain the financial results of ADB for the year ended 31 December 2022\") \n",
    "print(response)"
   ]
  },
  {
   "cell_type": "code",
   "execution_count": 31,
   "metadata": {},
   "outputs": [
    {
     "name": "stdout",
     "output_type": "stream",
     "text": [
      "Accra Angels Network aims to support high-growth scalable tech and tech-enabled companies in Ghana. They typically look for startups that are not older than 7 years, have the potential to scale, possess a management team or structure in place, demonstrate a clearly defined market opportunity, and show growth and impact potential. To position your startup to potentially receive funding from Accra Angels Network, ensure that your business aligns with their criteria, showcases long-term partnership potential, offers mentorship and advisory opportunities, provides access to corporate and investor networks, and demonstrates potential for follow-on funding. Additionally, having a focus on technology startups or tech-enabled SMEs/SBGs can be advantageous when seeking funding from Accra Angels Network.\n"
     ]
    }
   ],
   "source": [
    "# Either way we can now query the index\n",
    "query_engine = index.as_query_engine()\n",
    "response = query_engine.query(\"I am a startup founder, looking for funding. I've heard of the Accra Angels Network. what information do you have on them? what do they look for in a startup?\"\n",
    "                              + \"how can I position my startup to get funding from them\")\n",
    "print(response)"
   ]
  }
 ],
 "metadata": {
  "kernelspec": {
   "display_name": "base",
   "language": "python",
   "name": "python3"
  },
  "language_info": {
   "codemirror_mode": {
    "name": "ipython",
    "version": 3
   },
   "file_extension": ".py",
   "mimetype": "text/x-python",
   "name": "python",
   "nbconvert_exporter": "python",
   "pygments_lexer": "ipython3",
   "version": "3.11.5"
  }
 },
 "nbformat": 4,
 "nbformat_minor": 2
}
